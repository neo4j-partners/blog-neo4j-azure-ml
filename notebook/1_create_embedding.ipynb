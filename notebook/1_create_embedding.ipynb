{
  "cells": [
    {
      "cell_type": "markdown",
      "metadata": {
        "id": "4rQ6G65n6OxV"
      },
      "source": [
        "# Create Embedding\n",
        "In this notebook, we'll connect to a Neo4j instance.  We'll load data and compute an embedding.  The notebook exports that data to pandas and then CSV files."
      ]
    },
    {
      "cell_type": "markdown",
      "metadata": {
        "id": "9MwTYwKk6OxX"
      },
      "source": [
        "## Using the Neo4j API\n",
        "Let's connect to our Neo4j deployment.  First off, install the Neo4j Graph Data Science package."
      ]
    },
    {
      "cell_type": "code",
      "execution_count": null,
      "metadata": {
        "id": "FT0KaLYj6OxX"
      },
      "outputs": [],
      "source": [
        "%pip install graphdatascience"
      ]
    },
    {
      "cell_type": "markdown",
      "metadata": {
        "id": "sFokFbiL6OxY"
      },
      "source": [
        "Now, you're going to need the connection string and credentials from the deployment you created above."
      ]
    },
    {
      "cell_type": "code",
      "execution_count": 62,
      "metadata": {
        "gather": {
          "logged": 1669344803314
        },
        "id": "P41l_P4zzSqF"
      },
      "outputs": [],
      "source": [
        "# Edit these variables!\n",
        "DB_URL = '<YOUR_URL_HERE>' #'neo4j://URL.southeastasia.cloudapp.azure.com:7687'\n",
        "DB_PASS = '<YOUR_NEO4J_PASSWORD_HERE>'\n",
        "\n",
        "# You can leave this default\n",
        "DB_USER = 'neo4j'"
      ]
    },
    {
      "cell_type": "code",
      "execution_count": 63,
      "metadata": {
        "gather": {
          "logged": 1669344806183
        },
        "id": "8lUkSvmozSqF"
      },
      "outputs": [],
      "source": [
        "from graphdatascience import GraphDataScience\n",
        "gds = GraphDataScience(DB_URL, auth=(DB_USER, DB_PASS))"
      ]
    },
    {
      "cell_type": "markdown",
      "metadata": {
        "nteract": {
          "transient": {
            "deleting": false
          }
        }
      },
      "source": [
        "# Load Data"
      ]
    },
    {
      "cell_type": "markdown",
      "metadata": {
        "nteract": {
          "transient": {
            "deleting": false
          }
        }
      },
      "source": [
        "## Create Constraints"
      ]
    },
    {
      "cell_type": "code",
      "execution_count": 53,
      "metadata": {
        "gather": {
          "logged": 1669263867155
        },
        "jupyter": {
          "outputs_hidden": false,
          "source_hidden": false
        },
        "nteract": {
          "transient": {
            "deleting": false
          }
        }
      },
      "outputs": [],
      "source": [
        "result = gds.run_cypher(\n",
        "  \"\"\"\n",
        "    CREATE CONSTRAINT IF NOT EXISTS ON (n:Person) ASSERT (n.id) IS NODE KEY;\n",
        "  \"\"\"\n",
        ")\n",
        "result = gds.run_cypher(\n",
        "  \"\"\"\n",
        "    CREATE CONSTRAINT IF NOT EXISTS ON (n:Policy) ASSERT (n.id) IS NODE KEY;\n",
        "  \"\"\"\n",
        ")\n",
        "result = gds.run_cypher(\n",
        "  \"\"\"\n",
        "    CREATE CONSTRAINT IF NOT EXISTS ON (n:Area) ASSERT (n.name) IS NODE KEY;\n",
        "  \"\"\"\n",
        ")\n",
        "result = gds.run_cypher(\n",
        "  \"\"\"\n",
        "    CREATE CONSTRAINT IF NOT EXISTS ON (n:Company) ASSERT (n.name) IS NODE KEY;\n",
        "  \"\"\"\n",
        ")\n",
        "result = gds.run_cypher(\n",
        "  \"\"\"\n",
        "    CREATE CONSTRAINT IF NOT EXISTS ON (n:Model) ASSERT (n.name) IS NODE KEY;\n",
        "  \"\"\"\n",
        ")\n",
        "result = gds.run_cypher(\n",
        "  \"\"\"\n",
        "    CREATE CONSTRAINT IF NOT EXISTS ON (n:Segment) ASSERT (n.name) IS NODE KEY;\n",
        "  \"\"\"\n",
        ")\n",
        "result = gds.run_cypher(\n",
        "  \"\"\"\n",
        "    CREATE CONSTRAINT IF NOT EXISTS ON (n:Fuel) ASSERT (n.name) IS NODE KEY;\n",
        "  \"\"\"\n",
        ")\n",
        "result = gds.run_cypher(\n",
        "  \"\"\"\n",
        "    CREATE CONSTRAINT IF NOT EXISTS ON (n:Engine) ASSERT (n.name) IS NODE KEY;\n",
        "  \"\"\"\n",
        ")\n",
        "result = gds.run_cypher(\n",
        "  \"\"\"\n",
        "    CREATE CONSTRAINT IF NOT EXISTS ON (n:RearBrakes) ASSERT (n.name) IS NODE KEY;\n",
        "  \"\"\"\n",
        ")\n",
        "result = gds.run_cypher(\n",
        "  \"\"\"\n",
        "    CREATE CONSTRAINT IF NOT EXISTS ON (n:Steering) ASSERT (n.name) IS NODE KEY;\n",
        "  \"\"\"\n",
        ")\n",
        "result = gds.run_cypher(\n",
        "  \"\"\"\n",
        "    CREATE CONSTRAINT IF NOT EXISTS ON (n:Transmission) ASSERT (n.name) IS NODE KEY;\n",
        "  \"\"\"\n",
        ")\n",
        "result = gds.run_cypher(\n",
        "  \"\"\"\n",
        "    CREATE CONSTRAINT IF NOT EXISTS ON (n:Car) ASSERT (n.id) IS NODE KEY;\n",
        "  \"\"\"\n",
        ")\n",
        "result = gds.run_cypher(\n",
        "  \"\"\"\n",
        "    CREATE CONSTRAINT IF NOT EXISTS ON (n:ESC) ASSERT (n.name) IS NODE KEY;\n",
        "  \"\"\"\n",
        ")\n",
        "result = gds.run_cypher(\n",
        "  \"\"\"\n",
        "    CREATE CONSTRAINT IF NOT EXISTS ON (n:AdjustableSteering) ASSERT (n.name) IS NODE KEY;\n",
        "  \"\"\"\n",
        ")\n",
        "result = gds.run_cypher(\n",
        "  \"\"\"\n",
        "    CREATE CONSTRAINT IF NOT EXISTS ON (n:TPMS) ASSERT (n.name) IS NODE KEY;\n",
        "  \"\"\"\n",
        ")\n",
        "result = gds.run_cypher(\n",
        "  \"\"\"\n",
        "    CREATE CONSTRAINT IF NOT EXISTS ON (n:ParkingSensors) ASSERT (n.name) IS NODE KEY;\n",
        "  \"\"\"\n",
        ")\n",
        "result = gds.run_cypher(\n",
        "  \"\"\"\n",
        "    CREATE CONSTRAINT IF NOT EXISTS ON (n:ParkingCamera) ASSERT (n.name) IS NODE KEY;\n",
        "  \"\"\"\n",
        ")\n",
        "result = gds.run_cypher(\n",
        "  \"\"\"\n",
        "    CREATE CONSTRAINT IF NOT EXISTS ON (n:FrontFogLights) ASSERT (n.name) IS NODE KEY;\n",
        "  \"\"\"\n",
        ")\n",
        "result = gds.run_cypher(\n",
        "  \"\"\"\n",
        "    CREATE CONSTRAINT IF NOT EXISTS ON (n:RearWindowWiper) ASSERT (n.name) IS NODE KEY;\n",
        "  \"\"\"\n",
        ")\n",
        "result = gds.run_cypher(\n",
        "  \"\"\"\n",
        "  CREATE CONSTRAINT IF NOT EXISTS ON (n:RearWindowWasher) ASSERT (n.name) IS NODE KEY;\n",
        "  \"\"\"\n",
        ")\n",
        "result = gds.run_cypher(\n",
        "  \"\"\"\n",
        "    CREATE CONSTRAINT IF NOT EXISTS ON (n:RearWindowDefogger) ASSERT (n.name) IS NODE KEY;\n",
        "  \"\"\"\n",
        ")\n",
        "result = gds.run_cypher(\n",
        "  \"\"\"\n",
        "  CREATE CONSTRAINT IF NOT EXISTS ON (n:BrakeAssist) ASSERT (n.name) IS NODE KEY;\n",
        "  \"\"\"\n",
        ")\n",
        "result = gds.run_cypher(\n",
        "  \"\"\"\n",
        "  CREATE CONSTRAINT IF NOT EXISTS ON (n:PowerDoorLocks) ASSERT (n.name) IS NODE KEY;\n",
        "  \"\"\"\n",
        ")\n",
        "result = gds.run_cypher(\n",
        "  \"\"\"\n",
        "  CREATE CONSTRAINT IF NOT EXISTS ON (n:CentralLocking) ASSERT (n.name) IS NODE KEY;\n",
        "  \"\"\"\n",
        ")\n",
        "result = gds.run_cypher(\n",
        "  \"\"\"\n",
        "  CREATE CONSTRAINT IF NOT EXISTS ON (n:PowerSteering) ASSERT (n.name) IS NODE KEY;\n",
        "  \"\"\"\n",
        ")\n",
        "result = gds.run_cypher(\n",
        "  \"\"\"\n",
        "  CREATE CONSTRAINT IF NOT EXISTS ON (n:DriverSeatHeightAdjustable) ASSERT (n.name) IS NODE KEY;\n",
        "  \"\"\"\n",
        ")\n",
        "result = gds.run_cypher(\n",
        "  \"\"\"\n",
        "  CREATE CONSTRAINT IF NOT EXISTS ON (n:DayNightRearViewMirror) ASSERT (n.name) IS NODE KEY;\n",
        "  \"\"\"\n",
        ")\n",
        "result = gds.run_cypher(\n",
        "  \"\"\"\n",
        "  CREATE CONSTRAINT IF NOT EXISTS ON (n:ECW) ASSERT (n.name) IS NODE KEY;\n",
        "  \"\"\"\n",
        ")\n",
        "result = gds.run_cypher(\n",
        "  \"\"\"\n",
        "  CREATE CONSTRAINT IF NOT EXISTS ON (n:SpeedAlert) ASSERT (n.name) IS NODE KEY;\n",
        "  \"\"\"\n",
        ")\n"
      ]
    },
    {
      "cell_type": "markdown",
      "metadata": {
        "nteract": {
          "transient": {
            "deleting": false
          }
        }
      },
      "source": [
        "## Load"
      ]
    },
    {
      "cell_type": "code",
      "execution_count": 54,
      "metadata": {
        "gather": {
          "logged": 1669263891382
        },
        "jupyter": {
          "outputs_hidden": false,
          "source_hidden": false
        },
        "nteract": {
          "transient": {
            "deleting": false
          }
        }
      },
      "outputs": [
        {
          "data": {
            "text/html": [
              "<div>\n",
              "<style scoped>\n",
              "    .dataframe tbody tr th:only-of-type {\n",
              "        vertical-align: middle;\n",
              "    }\n",
              "\n",
              "    .dataframe tbody tr th {\n",
              "        vertical-align: top;\n",
              "    }\n",
              "\n",
              "    .dataframe thead th {\n",
              "        text-align: right;\n",
              "    }\n",
              "</style>\n",
              "<table border=\"1\" class=\"dataframe\">\n",
              "  <thead>\n",
              "    <tr style=\"text-align: right;\">\n",
              "      <th></th>\n",
              "    </tr>\n",
              "  </thead>\n",
              "  <tbody>\n",
              "  </tbody>\n",
              "</table>\n",
              "</div>"
            ],
            "text/plain": [
              "Empty DataFrame\n",
              "Columns: []\n",
              "Index: []"
            ]
          },
          "metadata": {},
          "output_type": "display_data"
        }
      ],
      "source": [
        "result = gds.run_cypher(\n",
        "  \"\"\"\n",
        "    LOAD CSV WITH HEADERS FROM 'https://raw.githubusercontent.com/neo4j-partners/blog-neo4j-azure-ml/main/data/data.csv' AS row\n",
        "    MERGE (person:Person {age: row.age_of_policyholder, id: \"name_\"+row.policy_id})\n",
        "    MERGE (policy:Policy {id: row.policy_id, tenure: row.policy_tenure, target: toBoolean(toInteger(row.is_claim))})\n",
        "    MERGE (area:Area {name: row.area_cluster, density: row.population_density})\n",
        "    MERGE (company:Company {name:row.make})\n",
        "    MERGE (model:Model {name:row.model})\n",
        "    MERGE (ncapRating:Rating {score: row.ncap_rating})\n",
        "    MERGE (segment:Segment {name:row.segment})\n",
        "    MERGE (fuel:Fuel {name: row.fuel_type})\n",
        "    MERGE (engine:Engine {name: row.engine_type})\n",
        "    MERGE (rearBrakes:RearBrakes {name: row.rear_brakes_type})\n",
        "    MERGE (steering:Steering {name: row.steering_type})\n",
        "    MERGE (transmission:Transmission {name: row.transmission_type})\n",
        "    CREATE (car:Car {age: row.age_of_car, airbags: row.airbags, displacement: row.displacement, cylinder: row.cylinder, \n",
        "      gearBox: row.gear_box, turningRadius: row.turning_radius, length: row.length, width: row.width, \n",
        "      height: row.height, grossWeight: row.gross_weight,\n",
        "      id: \"car_\"+row.policy_id, maxTorque: row.max_torque, maxPower: row.max_power, target: toBoolean(toInteger(row.is_claim))})\n",
        "\n",
        "\n",
        "    CREATE (fuel)<-[:RUNS_ON]-(car)<-[:OWNS]-(person)-[:HOLDS]->(policy)-[:LOCATED_AT]->(area)\n",
        "    CREATE (policy)-[:COVERS]->(car)-[:HAS]->(engine)\n",
        "    MERGE (segment)<-[:BELONGS_TO]-(model)-[:MADE_BY]->(company)\n",
        "    MERGE (model)-[:RATED]->(ncapRating)\n",
        "    CREATE (rearBrakes)<-[:HAS]-(car)-[:IS_A]->(model)\n",
        "    CREATE (steering)<-[:HAS]-(car)-[:HAS]->(transmission)\n",
        "\n",
        "    FOREACH(_ IN CASE WHEN row.is_esc = 'Yes' THEN [1] ELSE [] END |\n",
        "      MERGE (n:ESC{name: \"ESC\"}) MERGE (car)-[:HAS]->(n)\n",
        "    )\n",
        "    FOREACH(_ IN CASE WHEN row.is_adjustable_steering = 'Yes' THEN [1] ELSE [] END |\n",
        "      MERGE (n:AdjustableSteering {name: \"AdjustableSteering\"}) MERGE (car)-[:HAS]->(n)\n",
        "    )\n",
        "    FOREACH(_ IN CASE WHEN row.is_tpms = 'Yes' THEN [1] ELSE [] END |\n",
        "      MERGE (:TPMS{name: \"TPMS\"}) MERGE (car)-[:HAS]->(n)\n",
        "    )\n",
        "    FOREACH(_ IN CASE WHEN row.is_parking_sensors = 'Yes' THEN [1] ELSE [] END |\n",
        "      MERGE (n:ParkingSensors{name: \"ParkingSensors\"}) MERGE (car)-[:HAS]->(n)\n",
        "    )\n",
        "    FOREACH(_ IN CASE WHEN row.is_parking_camera = 'Yes' THEN [1] ELSE [] END |\n",
        "      MERGE (n:ParkingCamera{name: \"ParkingCamera\"}) MERGE (car)-[:HAS]->(n)\n",
        "    )\n",
        "    FOREACH(_ IN CASE WHEN row.is_front_fog_lights = 'Yes' THEN [1] ELSE [] END |\n",
        "      MERGE (n:FrontFogLights{name: \"FrontFogLights\"}) MERGE (car)-[:HAS]->(n)\n",
        "    )\n",
        "    FOREACH(_ IN CASE WHEN row.is_rear_window_wiper = 'Yes' THEN [1] ELSE [] END |\n",
        "      MERGE (n:RearWindowWiper{name: \"RearWindowWiper\"}) MERGE (car)-[:HAS]->(n)\n",
        "    )\n",
        "    FOREACH(_ IN CASE WHEN row.is_rear_window_washer = 'Yes' THEN [1] ELSE [] END |\n",
        "      MERGE (n:RearWindowWasher{name: \"RearWindowWasher\"}) MERGE (car)-[:HAS]->(n)\n",
        "    )\n",
        "    FOREACH(_ IN CASE WHEN row.is_rear_window_defogger = 'Yes' THEN [1] ELSE [] END |\n",
        "      MERGE (n:RearWindowDefogger{name: \"RearWindowDefogger\"}) MERGE (car)-[:HAS]->(n)\n",
        "    )\n",
        "    FOREACH(_ IN CASE WHEN row.is_brake_assist = 'Yes' THEN [1] ELSE [] END |\n",
        "      MERGE (n:BrakeAssist{name: \"BrakeAssist\"}) MERGE (car)-[:HAS]->(n)\n",
        "    )\n",
        "    FOREACH(_ IN CASE WHEN row.is_power_door_locks = 'Yes' THEN [1] ELSE [] END |\n",
        "      MERGE (n:PowerDoorLocks{name: \"PowerDoorLocks\"}) MERGE (car)-[:HAS]->(n)\n",
        "    )\n",
        "    FOREACH(_ IN CASE WHEN row.is_central_locking = 'Yes' THEN [1] ELSE [] END |\n",
        "      MERGE (n:CentralLocking{name: \"CentralLocking\"}) MERGE (car)-[:HAS]->(n)\n",
        "    )\n",
        "    FOREACH(_ IN CASE WHEN row.is_power_steering = 'Yes' THEN [1] ELSE [] END |\n",
        "      MERGE (n:PowerSteering{name: \"PowerSteering\"}) MERGE (car)-[:HAS]->(n)\n",
        "    )\n",
        "    FOREACH(_ IN CASE WHEN row.is_driver_seat_height_adjustable = 'Yes' THEN [1] ELSE [] END |\n",
        "      MERGE (n:DriverSeatHeightAdjustable{name: \"DriverSeatHeightAdjustable\"}) MERGE (car)-[:HAS]->(n)\n",
        "    )\n",
        "    FOREACH(_ IN CASE WHEN row.is_day_night_rear_view_mirror = 'Yes' THEN [1] ELSE [] END |\n",
        "      MERGE (n:DayNightRearViewMirror{name: \"DayNightRearViewMirror\"}) MERGE (car)-[:HAS]->(n)\n",
        "    )\n",
        "    FOREACH(_ IN CASE WHEN row.is_ecw = 'Yes' THEN [1] ELSE [] END |\n",
        "      MERGE (n:ECW{name: \"ECW\"}) MERGE (car)-[:HAS]->(n)\n",
        "    )\n",
        "    FOREACH(_ IN CASE WHEN row.is_speed_alert = 'Yes' THEN [1] ELSE [] END |\n",
        "      MERGE (n:SpeedAlert{name: \"SpeedAlert\"}) MERGE (car)-[:HAS]->(n)\n",
        "    )\n",
        "  \"\"\"\n",
        ")\n",
        "display(result)"
      ]
    },
    {
      "cell_type": "markdown",
      "metadata": {
        "id": "ZtJy4eO_zSqF"
      },
      "source": [
        "## Graph Data Science\n",
        "Now we're going to use Neo4j Graph Data Science to create an in memory graph represtation of the data.  We'll enhance that represation with features we engineer using a graph embedding."
      ]
    },
    {
      "cell_type": "code",
      "execution_count": 64,
      "metadata": {
        "gather": {
          "logged": 1669344835257
        },
        "id": "x76ZEtR16Oxb"
      },
      "outputs": [
        {
          "data": {
            "text/html": [
              "<div>\n",
              "<style scoped>\n",
              "    .dataframe tbody tr th:only-of-type {\n",
              "        vertical-align: middle;\n",
              "    }\n",
              "\n",
              "    .dataframe tbody tr th {\n",
              "        vertical-align: top;\n",
              "    }\n",
              "\n",
              "    .dataframe thead th {\n",
              "        text-align: right;\n",
              "    }\n",
              "</style>\n",
              "<table border=\"1\" class=\"dataframe\">\n",
              "  <thead>\n",
              "    <tr style=\"text-align: right;\">\n",
              "      <th></th>\n",
              "      <th>graph</th>\n",
              "      <th>readProjection</th>\n",
              "      <th>nodes</th>\n",
              "      <th>rels</th>\n",
              "    </tr>\n",
              "  </thead>\n",
              "  <tbody>\n",
              "    <tr>\n",
              "      <th>0</th>\n",
              "      <td>projection</td>\n",
              "      <td>{'LOCATED_AT': {'orientation': 'UNDIRECTED', '...</td>\n",
              "      <td>175858</td>\n",
              "      <td>2160822</td>\n",
              "    </tr>\n",
              "  </tbody>\n",
              "</table>\n",
              "</div>"
            ],
            "text/plain": [
              "        graph                                     readProjection   nodes  \\\n",
              "0  projection  {'LOCATED_AT': {'orientation': 'UNDIRECTED', '...  175858   \n",
              "\n",
              "      rels  \n",
              "0  2160822  "
            ]
          },
          "metadata": {},
          "output_type": "display_data"
        }
      ],
      "source": [
        "result = gds.run_cypher(\n",
        "  \"\"\"\n",
        "    CALL gds.graph.project(\n",
        "      'projection',\n",
        "      ['Policy', 'Car', 'Engine', 'Fuel', 'RearBrakes', 'Steering', 'Transmission', 'Model', 'Company', 'Segment', 'Area', 'Person',\n",
        "      'ESC', 'AdjustableSteering', 'TPMS', 'ParkingSensors', 'ParkingCamera', 'FrontFogLights', 'RearWindowWiper',\n",
        "      'RearWindowWasher', 'RearWindowDefogger', 'BrakeAssist', 'PowerDoorLocks', 'CentralLocking', 'PowerSteering',\n",
        "      'DriverSeatHeightAdjustable', 'DayNightRearViewMirror', 'ECW', 'SpeedAlert'],\n",
        "      {\n",
        "          OWNS: {orientation: 'UNDIRECTED'},\n",
        "          LOCATED_AT: {orientation: 'UNDIRECTED'},\n",
        "          RUNS_ON: {orientation: 'UNDIRECTED'},\n",
        "          HAS: {orientation: 'UNDIRECTED'},\n",
        "          BELONGS_TO: {orientation: 'UNDIRECTED'},\n",
        "          MADE_BY: {orientation: 'UNDIRECTED'},\n",
        "          IS_A: {orientation: 'UNDIRECTED'},\n",
        "          HOLDS: {orientation: 'UNDIRECTED'}\n",
        "      }\n",
        "    )\n",
        "    YIELD\n",
        "      graphName AS graph,\n",
        "      relationshipProjection AS readProjection,\n",
        "      nodeCount AS nodes,\n",
        "      relationshipCount AS rels\n",
        "  \"\"\"\n",
        ")\n",
        "display(result)"
      ]
    },
    {
      "cell_type": "markdown",
      "metadata": {
        "id": "HiwL552u6Oxb"
      },
      "source": [
        "If you get an error saying the graph already exists, that's probably because you ran this code before. You can destroy it using this command:"
      ]
    },
    {
      "cell_type": "code",
      "execution_count": null,
      "metadata": {
        "gather": {
          "logged": 1669263902233
        },
        "id": "EPZIIIJc6Oxb"
      },
      "outputs": [],
      "source": [
        "result = gds.run_cypher(\n",
        "  \"\"\"\n",
        "    CALL gds.graph.drop('projection')\n",
        "  \"\"\"\n",
        ")\n",
        "display(result)"
      ]
    },
    {
      "cell_type": "markdown",
      "metadata": {
        "id": "zG1novOj6Oxb"
      },
      "source": [
        "Now, let's list the details of the graph to make sure the projection was created as we want."
      ]
    },
    {
      "cell_type": "code",
      "execution_count": null,
      "metadata": {
        "gather": {
          "logged": 1669344842885
        },
        "id": "yyaw5itE6Oxb"
      },
      "outputs": [],
      "source": [
        "result = gds.run_cypher(\n",
        "  \"\"\"\n",
        "    CALL gds.graph.list()\n",
        "  \"\"\"\n",
        ")\n",
        "display(result)"
      ]
    },
    {
      "cell_type": "markdown",
      "metadata": {
        "id": "XEQAChAa6Oxb"
      },
      "source": [
        "Now we can generate an embedding from that graph. This is a new feature we can use in our predictions. We're using FastRP, which is a more full featured and higher performance of Node2Vec. You can learn more about that [here](https://neo4j.com/docs/graph-data-science/current/algorithms/fastrp/).\n",
        "\n",
        "There are a bunch of parameters we could adjust in this.  One of the most obvious is the embeddingDimension.  The documentation covers many more."
      ]
    },
    {
      "cell_type": "code",
      "execution_count": 66,
      "metadata": {
        "gather": {
          "logged": 1669344853127
        },
        "id": "qLFxuPb66Oxc"
      },
      "outputs": [
        {
          "data": {
            "text/html": [
              "<div>\n",
              "<style scoped>\n",
              "    .dataframe tbody tr th:only-of-type {\n",
              "        vertical-align: middle;\n",
              "    }\n",
              "\n",
              "    .dataframe tbody tr th {\n",
              "        vertical-align: top;\n",
              "    }\n",
              "\n",
              "    .dataframe thead th {\n",
              "        text-align: right;\n",
              "    }\n",
              "</style>\n",
              "<table border=\"1\" class=\"dataframe\">\n",
              "  <thead>\n",
              "    <tr style=\"text-align: right;\">\n",
              "      <th></th>\n",
              "      <th>nodePropertiesWritten</th>\n",
              "      <th>mutateMillis</th>\n",
              "      <th>nodeCount</th>\n",
              "      <th>preProcessingMillis</th>\n",
              "      <th>computeMillis</th>\n",
              "      <th>configuration</th>\n",
              "    </tr>\n",
              "  </thead>\n",
              "  <tbody>\n",
              "    <tr>\n",
              "      <th>0</th>\n",
              "      <td>175858</td>\n",
              "      <td>0</td>\n",
              "      <td>175858</td>\n",
              "      <td>0</td>\n",
              "      <td>134</td>\n",
              "      <td>{'nodeSelfInfluence': 0, 'relationshipWeightPr...</td>\n",
              "    </tr>\n",
              "  </tbody>\n",
              "</table>\n",
              "</div>"
            ],
            "text/plain": [
              "   nodePropertiesWritten  mutateMillis  nodeCount  preProcessingMillis  \\\n",
              "0                 175858             0     175858                    0   \n",
              "\n",
              "   computeMillis                                      configuration  \n",
              "0            134  {'nodeSelfInfluence': 0, 'relationshipWeightPr...  "
            ]
          },
          "metadata": {},
          "output_type": "display_data"
        }
      ],
      "source": [
        "result = gds.run_cypher(\n",
        "  \"\"\"\n",
        "  CALL gds.fastRP.mutate('projection',{\n",
        "    embeddingDimension: 16,\n",
        "    randomSeed: 1,\n",
        "    mutateProperty:'embedding'\n",
        "  })\n",
        "  \"\"\"\n",
        ")\n",
        "display(result)"
      ]
    },
    {
      "cell_type": "markdown",
      "metadata": {
        "id": "iRpgM-NV6Oxc"
      },
      "source": [
        "That creates an embedding for each node type.  However, we only want the embedding on the nodes of type holding.\n",
        "\n",
        "We're going to take the embedding from our projection and write it to the holding nodes in the underlying database."
      ]
    },
    {
      "cell_type": "code",
      "execution_count": 67,
      "metadata": {
        "gather": {
          "logged": 1669344860116
        },
        "id": "3dBS16zD6Oxc",
        "jupyter": {
          "outputs_hidden": true
        }
      },
      "outputs": [
        {
          "data": {
            "text/html": [
              "<div>\n",
              "<style scoped>\n",
              "    .dataframe tbody tr th:only-of-type {\n",
              "        vertical-align: middle;\n",
              "    }\n",
              "\n",
              "    .dataframe tbody tr th {\n",
              "        vertical-align: top;\n",
              "    }\n",
              "\n",
              "    .dataframe thead th {\n",
              "        text-align: right;\n",
              "    }\n",
              "</style>\n",
              "<table border=\"1\" class=\"dataframe\">\n",
              "  <thead>\n",
              "    <tr style=\"text-align: right;\">\n",
              "      <th></th>\n",
              "      <th>writeMillis</th>\n",
              "    </tr>\n",
              "  </thead>\n",
              "  <tbody>\n",
              "    <tr>\n",
              "      <th>0</th>\n",
              "      <td>168</td>\n",
              "    </tr>\n",
              "  </tbody>\n",
              "</table>\n",
              "</div>"
            ],
            "text/plain": [
              "   writeMillis\n",
              "0          168"
            ]
          },
          "metadata": {},
          "output_type": "display_data"
        }
      ],
      "source": [
        "result = gds.run_cypher(\n",
        "  \"\"\"\n",
        "    CALL gds.graph.writeNodeProperties('projection', ['embedding'], ['Policy'])\n",
        "    YIELD writeMillis\n",
        "  \"\"\"\n",
        ")\n",
        "display(result)"
      ]
    },
    {
      "cell_type": "code",
      "execution_count": 69,
      "metadata": {
        "gather": {
          "logged": 1669344886290
        },
        "id": "mK6LeBne6Oxc",
        "jupyter": {
          "outputs_hidden": true
        }
      },
      "outputs": [
        {
          "data": {
            "text/html": [
              "<div>\n",
              "<style scoped>\n",
              "    .dataframe tbody tr th:only-of-type {\n",
              "        vertical-align: middle;\n",
              "    }\n",
              "\n",
              "    .dataframe tbody tr th {\n",
              "        vertical-align: top;\n",
              "    }\n",
              "\n",
              "    .dataframe thead th {\n",
              "        text-align: right;\n",
              "    }\n",
              "</style>\n",
              "<table border=\"1\" class=\"dataframe\">\n",
              "  <thead>\n",
              "    <tr style=\"text-align: right;\">\n",
              "      <th></th>\n",
              "      <th>n</th>\n",
              "    </tr>\n",
              "  </thead>\n",
              "  <tbody>\n",
              "    <tr>\n",
              "      <th>0</th>\n",
              "      <td>(embedding, id, tenure, target)</td>\n",
              "    </tr>\n",
              "    <tr>\n",
              "      <th>1</th>\n",
              "      <td>(embedding, id, tenure, target)</td>\n",
              "    </tr>\n",
              "    <tr>\n",
              "      <th>2</th>\n",
              "      <td>(embedding, id, tenure, target)</td>\n",
              "    </tr>\n",
              "    <tr>\n",
              "      <th>3</th>\n",
              "      <td>(embedding, id, tenure, target)</td>\n",
              "    </tr>\n",
              "    <tr>\n",
              "      <th>4</th>\n",
              "      <td>(embedding, id, tenure, target)</td>\n",
              "    </tr>\n",
              "    <tr>\n",
              "      <th>...</th>\n",
              "      <td>...</td>\n",
              "    </tr>\n",
              "    <tr>\n",
              "      <th>58587</th>\n",
              "      <td>(embedding, id, tenure, target)</td>\n",
              "    </tr>\n",
              "    <tr>\n",
              "      <th>58588</th>\n",
              "      <td>(embedding, id, tenure, target)</td>\n",
              "    </tr>\n",
              "    <tr>\n",
              "      <th>58589</th>\n",
              "      <td>(embedding, id, tenure, target)</td>\n",
              "    </tr>\n",
              "    <tr>\n",
              "      <th>58590</th>\n",
              "      <td>(embedding, id, tenure, target)</td>\n",
              "    </tr>\n",
              "    <tr>\n",
              "      <th>58591</th>\n",
              "      <td>(embedding, id, tenure, target)</td>\n",
              "    </tr>\n",
              "  </tbody>\n",
              "</table>\n",
              "<p>58592 rows × 1 columns</p>\n",
              "</div>"
            ],
            "text/plain": [
              "                                     n\n",
              "0      (embedding, id, tenure, target)\n",
              "1      (embedding, id, tenure, target)\n",
              "2      (embedding, id, tenure, target)\n",
              "3      (embedding, id, tenure, target)\n",
              "4      (embedding, id, tenure, target)\n",
              "...                                ...\n",
              "58587  (embedding, id, tenure, target)\n",
              "58588  (embedding, id, tenure, target)\n",
              "58589  (embedding, id, tenure, target)\n",
              "58590  (embedding, id, tenure, target)\n",
              "58591  (embedding, id, tenure, target)\n",
              "\n",
              "[58592 rows x 1 columns]"
            ]
          },
          "metadata": {},
          "output_type": "display_data"
        }
      ],
      "source": [
        "result = gds.run_cypher(\n",
        "  \"\"\"\n",
        "    CALL gds.graph.writeNodeProperties('projection', ['embedding'], ['Policy'])\n",
        "    YIELD writeMillis\n",
        "  \"\"\"\n",
        ")\n",
        "result = gds.run_cypher(\n",
        "  \"\"\"\n",
        "    MATCH (n:Policy) RETURN n\n",
        "  \"\"\"\n",
        ")\n",
        "display(result)"
      ]
    },
    {
      "cell_type": "markdown",
      "metadata": {
        "id": "1N_x38Ci6Oxc"
      },
      "source": [
        "Note that this query will take 2-3 minutes to run as it's grabbing nearly half a million nodes along with all their properties and our new embedding."
      ]
    },
    {
      "cell_type": "markdown",
      "metadata": {},
      "source": [
        "## Pandas\n",
        "Now we're going to reformat the query output."
      ]
    },
    {
      "cell_type": "code",
      "execution_count": 70,
      "metadata": {
        "gather": {
          "logged": 1669344950284
        },
        "id": "197ZaAH16Oxc"
      },
      "outputs": [
        {
          "data": {
            "text/html": [
              "<div>\n",
              "<style scoped>\n",
              "    .dataframe tbody tr th:only-of-type {\n",
              "        vertical-align: middle;\n",
              "    }\n",
              "\n",
              "    .dataframe tbody tr th {\n",
              "        vertical-align: top;\n",
              "    }\n",
              "\n",
              "    .dataframe thead th {\n",
              "        text-align: right;\n",
              "    }\n",
              "</style>\n",
              "<table border=\"1\" class=\"dataframe\">\n",
              "  <thead>\n",
              "    <tr style=\"text-align: right;\">\n",
              "      <th></th>\n",
              "      <th>embedding</th>\n",
              "      <th>id</th>\n",
              "      <th>tenure</th>\n",
              "      <th>target</th>\n",
              "    </tr>\n",
              "  </thead>\n",
              "  <tbody>\n",
              "    <tr>\n",
              "      <th>0</th>\n",
              "      <td>[0.023020759224891663, -0.11006061732769012, -...</td>\n",
              "      <td>ID00001</td>\n",
              "      <td>0.515873589958172</td>\n",
              "      <td>False</td>\n",
              "    </tr>\n",
              "    <tr>\n",
              "      <th>1</th>\n",
              "      <td>[-0.038260310888290405, -0.19782224297523499, ...</td>\n",
              "      <td>ID00002</td>\n",
              "      <td>0.672618513547733</td>\n",
              "      <td>False</td>\n",
              "    </tr>\n",
              "    <tr>\n",
              "      <th>2</th>\n",
              "      <td>[-0.17311690747737885, -0.5076541304588318, 0....</td>\n",
              "      <td>ID00003</td>\n",
              "      <td>0.841110255796233</td>\n",
              "      <td>False</td>\n",
              "    </tr>\n",
              "    <tr>\n",
              "      <th>3</th>\n",
              "      <td>[0.43954893946647644, 0.1507706195116043, -0.4...</td>\n",
              "      <td>ID00004</td>\n",
              "      <td>0.900276558749967</td>\n",
              "      <td>False</td>\n",
              "    </tr>\n",
              "    <tr>\n",
              "      <th>4</th>\n",
              "      <td>[0.6005488038063049, 0.1636149138212204, -0.04...</td>\n",
              "      <td>ID00005</td>\n",
              "      <td>0.596402813108729</td>\n",
              "      <td>False</td>\n",
              "    </tr>\n",
              "    <tr>\n",
              "      <th>...</th>\n",
              "      <td>...</td>\n",
              "      <td>...</td>\n",
              "      <td>...</td>\n",
              "      <td>...</td>\n",
              "    </tr>\n",
              "    <tr>\n",
              "      <th>58587</th>\n",
              "      <td>[-0.3746412992477417, -0.1735190749168396, 0.0...</td>\n",
              "      <td>ID58588</td>\n",
              "      <td>0.355089309384331</td>\n",
              "      <td>False</td>\n",
              "    </tr>\n",
              "    <tr>\n",
              "      <th>58588</th>\n",
              "      <td>[0.06777965277433395, -0.04410950839519501, 0....</td>\n",
              "      <td>ID58589</td>\n",
              "      <td>1.19964162310645</td>\n",
              "      <td>False</td>\n",
              "    </tr>\n",
              "    <tr>\n",
              "      <th>58589</th>\n",
              "      <td>[0.8123218417167664, 0.1137513518333435, 0.250...</td>\n",
              "      <td>ID58590</td>\n",
              "      <td>1.16227250738836</td>\n",
              "      <td>False</td>\n",
              "    </tr>\n",
              "    <tr>\n",
              "      <th>58590</th>\n",
              "      <td>[-0.3920295834541321, -0.3813270628452301, 0.0...</td>\n",
              "      <td>ID58591</td>\n",
              "      <td>1.2363069032167</td>\n",
              "      <td>False</td>\n",
              "    </tr>\n",
              "    <tr>\n",
              "      <th>58591</th>\n",
              "      <td>[-0.04893447458744049, -0.37329578399658203, 0...</td>\n",
              "      <td>ID58592</td>\n",
              "      <td>0.12442892947809</td>\n",
              "      <td>False</td>\n",
              "    </tr>\n",
              "  </tbody>\n",
              "</table>\n",
              "<p>58592 rows × 4 columns</p>\n",
              "</div>"
            ],
            "text/plain": [
              "                                               embedding       id  \\\n",
              "0      [0.023020759224891663, -0.11006061732769012, -...  ID00001   \n",
              "1      [-0.038260310888290405, -0.19782224297523499, ...  ID00002   \n",
              "2      [-0.17311690747737885, -0.5076541304588318, 0....  ID00003   \n",
              "3      [0.43954893946647644, 0.1507706195116043, -0.4...  ID00004   \n",
              "4      [0.6005488038063049, 0.1636149138212204, -0.04...  ID00005   \n",
              "...                                                  ...      ...   \n",
              "58587  [-0.3746412992477417, -0.1735190749168396, 0.0...  ID58588   \n",
              "58588  [0.06777965277433395, -0.04410950839519501, 0....  ID58589   \n",
              "58589  [0.8123218417167664, 0.1137513518333435, 0.250...  ID58590   \n",
              "58590  [-0.3920295834541321, -0.3813270628452301, 0.0...  ID58591   \n",
              "58591  [-0.04893447458744049, -0.37329578399658203, 0...  ID58592   \n",
              "\n",
              "                  tenure  target  \n",
              "0      0.515873589958172   False  \n",
              "1      0.672618513547733   False  \n",
              "2      0.841110255796233   False  \n",
              "3      0.900276558749967   False  \n",
              "4      0.596402813108729   False  \n",
              "...                  ...     ...  \n",
              "58587  0.355089309384331   False  \n",
              "58588   1.19964162310645   False  \n",
              "58589   1.16227250738836   False  \n",
              "58590    1.2363069032167   False  \n",
              "58591   0.12442892947809   False  \n",
              "\n",
              "[58592 rows x 4 columns]"
            ]
          },
          "execution_count": 70,
          "metadata": {},
          "output_type": "execute_result"
        }
      ],
      "source": [
        "import pandas as pd\n",
        "df = pd.DataFrame([dict(record.items()) for record in result['n']])\n",
        "df"
      ]
    },
    {
      "cell_type": "markdown",
      "metadata": {
        "id": "A3esUO8s6Oxc"
      },
      "source": [
        "Note that the embedding row is an array. To make this dataset more consumable, we should flatten that out into multiple individual features: embedding_0, embedding_1, ... embedding_n.\n"
      ]
    },
    {
      "cell_type": "code",
      "execution_count": 71,
      "metadata": {
        "gather": {
          "logged": 1669344969701
        },
        "id": "-i0_txCB6Oxc"
      },
      "outputs": [
        {
          "data": {
            "text/html": [
              "<div>\n",
              "<style scoped>\n",
              "    .dataframe tbody tr th:only-of-type {\n",
              "        vertical-align: middle;\n",
              "    }\n",
              "\n",
              "    .dataframe tbody tr th {\n",
              "        vertical-align: top;\n",
              "    }\n",
              "\n",
              "    .dataframe thead th {\n",
              "        text-align: right;\n",
              "    }\n",
              "</style>\n",
              "<table border=\"1\" class=\"dataframe\">\n",
              "  <thead>\n",
              "    <tr style=\"text-align: right;\">\n",
              "      <th></th>\n",
              "      <th>id</th>\n",
              "      <th>tenure</th>\n",
              "      <th>target</th>\n",
              "      <th>embedding_0</th>\n",
              "      <th>embedding_1</th>\n",
              "      <th>embedding_2</th>\n",
              "      <th>embedding_3</th>\n",
              "      <th>embedding_4</th>\n",
              "      <th>embedding_5</th>\n",
              "      <th>embedding_6</th>\n",
              "      <th>embedding_7</th>\n",
              "      <th>embedding_8</th>\n",
              "      <th>embedding_9</th>\n",
              "      <th>embedding_10</th>\n",
              "      <th>embedding_11</th>\n",
              "      <th>embedding_12</th>\n",
              "      <th>embedding_13</th>\n",
              "      <th>embedding_14</th>\n",
              "      <th>embedding_15</th>\n",
              "    </tr>\n",
              "  </thead>\n",
              "  <tbody>\n",
              "    <tr>\n",
              "      <th>0</th>\n",
              "      <td>ID00001</td>\n",
              "      <td>0.515873589958172</td>\n",
              "      <td>False</td>\n",
              "      <td>0.023021</td>\n",
              "      <td>-0.110061</td>\n",
              "      <td>-0.066930</td>\n",
              "      <td>-0.062366</td>\n",
              "      <td>-0.288528</td>\n",
              "      <td>-0.074345</td>\n",
              "      <td>-0.318439</td>\n",
              "      <td>-1.065324</td>\n",
              "      <td>0.388808</td>\n",
              "      <td>0.104460</td>\n",
              "      <td>0.054534</td>\n",
              "      <td>0.141264</td>\n",
              "      <td>-0.431444</td>\n",
              "      <td>-0.369678</td>\n",
              "      <td>0.293709</td>\n",
              "      <td>0.027097</td>\n",
              "    </tr>\n",
              "    <tr>\n",
              "      <th>1</th>\n",
              "      <td>ID00002</td>\n",
              "      <td>0.672618513547733</td>\n",
              "      <td>False</td>\n",
              "      <td>-0.038260</td>\n",
              "      <td>-0.197822</td>\n",
              "      <td>0.635553</td>\n",
              "      <td>-0.307495</td>\n",
              "      <td>-0.387940</td>\n",
              "      <td>0.136137</td>\n",
              "      <td>0.102590</td>\n",
              "      <td>-0.171507</td>\n",
              "      <td>0.062199</td>\n",
              "      <td>0.518987</td>\n",
              "      <td>0.491626</td>\n",
              "      <td>0.693182</td>\n",
              "      <td>0.762449</td>\n",
              "      <td>0.450432</td>\n",
              "      <td>0.030998</td>\n",
              "      <td>-0.305404</td>\n",
              "    </tr>\n",
              "    <tr>\n",
              "      <th>2</th>\n",
              "      <td>ID00003</td>\n",
              "      <td>0.841110255796233</td>\n",
              "      <td>False</td>\n",
              "      <td>-0.173117</td>\n",
              "      <td>-0.507654</td>\n",
              "      <td>0.091618</td>\n",
              "      <td>-0.015352</td>\n",
              "      <td>-0.651869</td>\n",
              "      <td>-0.261109</td>\n",
              "      <td>-0.046898</td>\n",
              "      <td>0.207765</td>\n",
              "      <td>0.309478</td>\n",
              "      <td>-0.378831</td>\n",
              "      <td>0.233006</td>\n",
              "      <td>-0.020711</td>\n",
              "      <td>-0.667419</td>\n",
              "      <td>-0.467153</td>\n",
              "      <td>-0.417035</td>\n",
              "      <td>-0.304741</td>\n",
              "    </tr>\n",
              "    <tr>\n",
              "      <th>3</th>\n",
              "      <td>ID00004</td>\n",
              "      <td>0.900276558749967</td>\n",
              "      <td>False</td>\n",
              "      <td>0.439549</td>\n",
              "      <td>0.150771</td>\n",
              "      <td>-0.444539</td>\n",
              "      <td>-0.139164</td>\n",
              "      <td>0.646996</td>\n",
              "      <td>0.199617</td>\n",
              "      <td>0.259094</td>\n",
              "      <td>-0.272437</td>\n",
              "      <td>0.465367</td>\n",
              "      <td>0.094833</td>\n",
              "      <td>-0.805303</td>\n",
              "      <td>-0.284161</td>\n",
              "      <td>0.207143</td>\n",
              "      <td>-0.371225</td>\n",
              "      <td>0.328657</td>\n",
              "      <td>-0.098536</td>\n",
              "    </tr>\n",
              "    <tr>\n",
              "      <th>4</th>\n",
              "      <td>ID00005</td>\n",
              "      <td>0.596402813108729</td>\n",
              "      <td>False</td>\n",
              "      <td>0.600549</td>\n",
              "      <td>0.163615</td>\n",
              "      <td>-0.043986</td>\n",
              "      <td>0.074792</td>\n",
              "      <td>-0.274171</td>\n",
              "      <td>0.478468</td>\n",
              "      <td>0.587318</td>\n",
              "      <td>0.073153</td>\n",
              "      <td>1.009142</td>\n",
              "      <td>-0.020436</td>\n",
              "      <td>0.054714</td>\n",
              "      <td>-0.271482</td>\n",
              "      <td>-0.559643</td>\n",
              "      <td>-0.740622</td>\n",
              "      <td>0.062591</td>\n",
              "      <td>0.246495</td>\n",
              "    </tr>\n",
              "    <tr>\n",
              "      <th>...</th>\n",
              "      <td>...</td>\n",
              "      <td>...</td>\n",
              "      <td>...</td>\n",
              "      <td>...</td>\n",
              "      <td>...</td>\n",
              "      <td>...</td>\n",
              "      <td>...</td>\n",
              "      <td>...</td>\n",
              "      <td>...</td>\n",
              "      <td>...</td>\n",
              "      <td>...</td>\n",
              "      <td>...</td>\n",
              "      <td>...</td>\n",
              "      <td>...</td>\n",
              "      <td>...</td>\n",
              "      <td>...</td>\n",
              "      <td>...</td>\n",
              "      <td>...</td>\n",
              "      <td>...</td>\n",
              "    </tr>\n",
              "    <tr>\n",
              "      <th>58587</th>\n",
              "      <td>ID58588</td>\n",
              "      <td>0.355089309384331</td>\n",
              "      <td>False</td>\n",
              "      <td>-0.374641</td>\n",
              "      <td>-0.173519</td>\n",
              "      <td>0.012851</td>\n",
              "      <td>0.102170</td>\n",
              "      <td>-0.230456</td>\n",
              "      <td>-0.013068</td>\n",
              "      <td>0.740553</td>\n",
              "      <td>0.023130</td>\n",
              "      <td>-0.322119</td>\n",
              "      <td>-0.106522</td>\n",
              "      <td>0.535259</td>\n",
              "      <td>-0.806661</td>\n",
              "      <td>-0.167073</td>\n",
              "      <td>-0.683218</td>\n",
              "      <td>-0.167598</td>\n",
              "      <td>-0.050272</td>\n",
              "    </tr>\n",
              "    <tr>\n",
              "      <th>58588</th>\n",
              "      <td>ID58589</td>\n",
              "      <td>1.19964162310645</td>\n",
              "      <td>False</td>\n",
              "      <td>0.067780</td>\n",
              "      <td>-0.044110</td>\n",
              "      <td>0.456751</td>\n",
              "      <td>-0.589889</td>\n",
              "      <td>0.000374</td>\n",
              "      <td>0.434308</td>\n",
              "      <td>-0.058232</td>\n",
              "      <td>0.216192</td>\n",
              "      <td>0.028608</td>\n",
              "      <td>-0.303860</td>\n",
              "      <td>-0.122104</td>\n",
              "      <td>0.022171</td>\n",
              "      <td>0.020402</td>\n",
              "      <td>-0.481895</td>\n",
              "      <td>-0.891337</td>\n",
              "      <td>-0.803078</td>\n",
              "    </tr>\n",
              "    <tr>\n",
              "      <th>58589</th>\n",
              "      <td>ID58590</td>\n",
              "      <td>1.16227250738836</td>\n",
              "      <td>False</td>\n",
              "      <td>0.812322</td>\n",
              "      <td>0.113751</td>\n",
              "      <td>0.250907</td>\n",
              "      <td>0.342399</td>\n",
              "      <td>-0.025768</td>\n",
              "      <td>0.143852</td>\n",
              "      <td>0.376213</td>\n",
              "      <td>-0.180150</td>\n",
              "      <td>0.390632</td>\n",
              "      <td>-0.043713</td>\n",
              "      <td>0.494221</td>\n",
              "      <td>-0.461899</td>\n",
              "      <td>-0.977451</td>\n",
              "      <td>-0.299012</td>\n",
              "      <td>-0.025827</td>\n",
              "      <td>-0.240989</td>\n",
              "    </tr>\n",
              "    <tr>\n",
              "      <th>58590</th>\n",
              "      <td>ID58591</td>\n",
              "      <td>1.2363069032167</td>\n",
              "      <td>False</td>\n",
              "      <td>-0.392030</td>\n",
              "      <td>-0.381327</td>\n",
              "      <td>0.085263</td>\n",
              "      <td>0.079426</td>\n",
              "      <td>0.223579</td>\n",
              "      <td>0.330965</td>\n",
              "      <td>0.702653</td>\n",
              "      <td>-0.082810</td>\n",
              "      <td>0.035633</td>\n",
              "      <td>0.054498</td>\n",
              "      <td>0.259414</td>\n",
              "      <td>-0.825691</td>\n",
              "      <td>-0.783866</td>\n",
              "      <td>-0.405829</td>\n",
              "      <td>-0.042592</td>\n",
              "      <td>-0.140393</td>\n",
              "    </tr>\n",
              "    <tr>\n",
              "      <th>58591</th>\n",
              "      <td>ID58592</td>\n",
              "      <td>0.12442892947809</td>\n",
              "      <td>False</td>\n",
              "      <td>-0.048934</td>\n",
              "      <td>-0.373296</td>\n",
              "      <td>0.282029</td>\n",
              "      <td>0.368077</td>\n",
              "      <td>0.374569</td>\n",
              "      <td>0.128707</td>\n",
              "      <td>0.875541</td>\n",
              "      <td>0.671551</td>\n",
              "      <td>-0.209468</td>\n",
              "      <td>0.222215</td>\n",
              "      <td>0.420671</td>\n",
              "      <td>-0.634777</td>\n",
              "      <td>-0.608670</td>\n",
              "      <td>-0.497335</td>\n",
              "      <td>-0.220408</td>\n",
              "      <td>0.075194</td>\n",
              "    </tr>\n",
              "  </tbody>\n",
              "</table>\n",
              "<p>58592 rows × 19 columns</p>\n",
              "</div>"
            ],
            "text/plain": [
              "            id             tenure  target  embedding_0  embedding_1  \\\n",
              "0      ID00001  0.515873589958172   False     0.023021    -0.110061   \n",
              "1      ID00002  0.672618513547733   False    -0.038260    -0.197822   \n",
              "2      ID00003  0.841110255796233   False    -0.173117    -0.507654   \n",
              "3      ID00004  0.900276558749967   False     0.439549     0.150771   \n",
              "4      ID00005  0.596402813108729   False     0.600549     0.163615   \n",
              "...        ...                ...     ...          ...          ...   \n",
              "58587  ID58588  0.355089309384331   False    -0.374641    -0.173519   \n",
              "58588  ID58589   1.19964162310645   False     0.067780    -0.044110   \n",
              "58589  ID58590   1.16227250738836   False     0.812322     0.113751   \n",
              "58590  ID58591    1.2363069032167   False    -0.392030    -0.381327   \n",
              "58591  ID58592   0.12442892947809   False    -0.048934    -0.373296   \n",
              "\n",
              "       embedding_2  embedding_3  embedding_4  embedding_5  embedding_6  \\\n",
              "0        -0.066930    -0.062366    -0.288528    -0.074345    -0.318439   \n",
              "1         0.635553    -0.307495    -0.387940     0.136137     0.102590   \n",
              "2         0.091618    -0.015352    -0.651869    -0.261109    -0.046898   \n",
              "3        -0.444539    -0.139164     0.646996     0.199617     0.259094   \n",
              "4        -0.043986     0.074792    -0.274171     0.478468     0.587318   \n",
              "...            ...          ...          ...          ...          ...   \n",
              "58587     0.012851     0.102170    -0.230456    -0.013068     0.740553   \n",
              "58588     0.456751    -0.589889     0.000374     0.434308    -0.058232   \n",
              "58589     0.250907     0.342399    -0.025768     0.143852     0.376213   \n",
              "58590     0.085263     0.079426     0.223579     0.330965     0.702653   \n",
              "58591     0.282029     0.368077     0.374569     0.128707     0.875541   \n",
              "\n",
              "       embedding_7  embedding_8  embedding_9  embedding_10  embedding_11  \\\n",
              "0        -1.065324     0.388808     0.104460      0.054534      0.141264   \n",
              "1        -0.171507     0.062199     0.518987      0.491626      0.693182   \n",
              "2         0.207765     0.309478    -0.378831      0.233006     -0.020711   \n",
              "3        -0.272437     0.465367     0.094833     -0.805303     -0.284161   \n",
              "4         0.073153     1.009142    -0.020436      0.054714     -0.271482   \n",
              "...            ...          ...          ...           ...           ...   \n",
              "58587     0.023130    -0.322119    -0.106522      0.535259     -0.806661   \n",
              "58588     0.216192     0.028608    -0.303860     -0.122104      0.022171   \n",
              "58589    -0.180150     0.390632    -0.043713      0.494221     -0.461899   \n",
              "58590    -0.082810     0.035633     0.054498      0.259414     -0.825691   \n",
              "58591     0.671551    -0.209468     0.222215      0.420671     -0.634777   \n",
              "\n",
              "       embedding_12  embedding_13  embedding_14  embedding_15  \n",
              "0         -0.431444     -0.369678      0.293709      0.027097  \n",
              "1          0.762449      0.450432      0.030998     -0.305404  \n",
              "2         -0.667419     -0.467153     -0.417035     -0.304741  \n",
              "3          0.207143     -0.371225      0.328657     -0.098536  \n",
              "4         -0.559643     -0.740622      0.062591      0.246495  \n",
              "...             ...           ...           ...           ...  \n",
              "58587     -0.167073     -0.683218     -0.167598     -0.050272  \n",
              "58588      0.020402     -0.481895     -0.891337     -0.803078  \n",
              "58589     -0.977451     -0.299012     -0.025827     -0.240989  \n",
              "58590     -0.783866     -0.405829     -0.042592     -0.140393  \n",
              "58591     -0.608670     -0.497335     -0.220408      0.075194  \n",
              "\n",
              "[58592 rows x 19 columns]"
            ]
          },
          "execution_count": 71,
          "metadata": {},
          "output_type": "execute_result"
        }
      ],
      "source": [
        "embeddings = pd.DataFrame(df['embedding'].values.tolist()).add_prefix(\"embedding_\")\n",
        "merged = df.drop(columns=['embedding']).merge(embeddings, left_index=True, right_index=True)\n",
        "merged"
      ]
    },
    {
      "cell_type": "markdown",
      "metadata": {
        "id": "4Zb7lH366Oxc"
      },
      "source": [
        "Now that we have the data formatted properly, let's split it into training, testing and validation sets.  We'll write those to disk."
      ]
    },
    {
      "cell_type": "code",
      "execution_count": 72,
      "metadata": {
        "gather": {
          "logged": 1669344975782
        },
        "id": "uLg34zlu6Oxc"
      },
      "outputs": [],
      "source": [
        "import os, numpy as np \n",
        "\n",
        "df = merged\n",
        "\n",
        "outdir = './data'\n",
        "if not os.path.exists(outdir):\n",
        "    os.mkdir(outdir)\n",
        "\n",
        "training_dir = './data/training-mltable-folder'\n",
        "if not os.path.exists(training_dir):\n",
        "    os.mkdir(training_dir)\n",
        "\n",
        "data = df.sample(frac=1).reset_index(drop=True)\n",
        "train_fraction = 0.6\n",
        "test_fraction = 0.2\n",
        "validation_fraction = 0.2\n",
        "\n",
        "train = data[:int((len(data)+1)*train_fraction)]\n",
        "train.to_csv(os.path.join(training_dir, 'train.csv'), index=False)\n",
        "\n",
        "test_dir = './data/test-mltable-folder'\n",
        "if not os.path.exists(test_dir):\n",
        "    os.mkdir(test_dir)\n",
        "\n",
        "test = data[int((len(data)+1)*train_fraction):int((len(data)+1)*(train_fraction+test_fraction))]\n",
        "test = test.drop(['target'], axis=1)\n",
        "test.to_csv(os.path.join(test_dir, 'test.csv'), index=False)\n",
        "\n",
        "validate_dir = './data/validation-mltable-folder'\n",
        "if not os.path.exists(validate_dir):\n",
        "    os.mkdir(validate_dir)\n",
        "\n",
        "validate = data[int((len(data)+1)*(train_fraction+test_fraction)):]\n",
        "validate = validate.drop(['target'], axis=1)\n",
        "validate.to_csv(os.path.join(validate_dir, 'validate.csv'), index=False)"
      ]
    },
    {
      "cell_type": "code",
      "execution_count": null,
      "metadata": {},
      "outputs": [],
      "source": []
    }
  ],
  "metadata": {
    "colab": {
      "name": "embedding.ipynb",
      "provenance": [],
      "toc_visible": true
    },
    "instance_type": "ml.t3.medium",
    "kernel_info": {
      "name": "python3"
    },
    "kernelspec": {
      "display_name": "Python 3 (ipykernel)",
      "language": "python",
      "name": "python3"
    },
    "language_info": {
      "codemirror_mode": {
        "name": "ipython",
        "version": 3
      },
      "file_extension": ".py",
      "mimetype": "text/x-python",
      "name": "python",
      "nbconvert_exporter": "python",
      "pygments_lexer": "ipython3",
      "version": "3.9.6"
    },
    "microsoft": {
      "host": {
        "AzureML": {
          "notebookHasBeenCompleted": true
        }
      }
    },
    "nteract": {
      "version": "nteract-front-end@1.0.0"
    },
    "vscode": {
      "interpreter": {
        "hash": "31f2aee4e71d21fbe5cf8b01ff0e069b9275f58929596ceb00d14d90e3e16cd6"
      }
    }
  },
  "nbformat": 4,
  "nbformat_minor": 4
}
